{
 "cells": [
  {
   "cell_type": "code",
   "execution_count": 1,
   "metadata": {},
   "outputs": [
    {
     "name": "stdout",
     "output_type": "stream",
     "text": [
      "Hello world!\n"
     ]
    }
   ],
   "source": []
  },
  {
   "cell_type": "code",
   "execution_count": null,
   "metadata": {},
   "outputs": [],
   "source": [
    "from email.parser import BytesParser, Parser\n",
    "from email.policy import default\n",
    "\n",
    "\n",
    "\n",
    "# If the e-mail headers are in a file, uncomment these two lines:\n",
    "with open(\"data/20200812/msg1411.txt\", 'rb') as fp:\n",
    "    headers = BytesParser(policy=default).parse(fp)\n",
    "\n",
    "#  Or for parsing headers in a string (this is an uncommon operation), use:\n",
    "#headers = Parser(policy=default).parsestr(\n",
    "#        'From: Foo Bar <user@example.com>\\n'\n",
    "#        'To: <someone_else@example.com>\\n'\n",
    "#        'Subject: Test message\\n'\n",
    "#        '\\n'\n",
    "#        'Body would go here\\n')\n",
    "\n",
    "#  Now the header items can be accessed as a dictionary:\n",
    "print('To: {}'.format(headers['to']))\n",
    "print('From: {}'.format(headers['from']))\n",
    "print('Subject: {}'.format(headers['subject']))\n",
    "\n",
    "# You can also access the parts of the addresses:\n",
    "print('Recipient username: {}'.format(headers['to'].addresses[0].username))\n",
    "print('Sender name: {}'.format(headers['from'].addresses[0].display_name))"
   ]
  },
  {
   "cell_type": "code",
   "execution_count": null,
   "metadata": {},
   "outputs": [],
   "source": []
  }
 ],
 "metadata": {
  "interpreter": {
   "hash": "949777d72b0d2535278d3dc13498b2535136f6dfe0678499012e853ee9abcab1"
  },
  "kernelspec": {
   "display_name": "Python 3.8.12 64-bit",
   "language": "python",
   "name": "python3"
  },
  "language_info": {
   "codemirror_mode": {
    "name": "ipython",
    "version": 3
   },
   "file_extension": ".py",
   "mimetype": "text/x-python",
   "name": "python",
   "nbconvert_exporter": "python",
   "pygments_lexer": "ipython3",
   "version": "3.8.10"
  },
  "orig_nbformat": 4
 },
 "nbformat": 4,
 "nbformat_minor": 2
}
